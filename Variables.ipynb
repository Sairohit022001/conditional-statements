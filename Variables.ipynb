{
  "nbformat": 4,
  "nbformat_minor": 0,
  "metadata": {
    "colab": {
      "provenance": [],
      "authorship_tag": "ABX9TyOS/caqvK4Dml3IY3PqNXgc",
      "include_colab_link": true
    },
    "kernelspec": {
      "name": "python3",
      "display_name": "Python 3"
    },
    "language_info": {
      "name": "python"
    }
  },
  "cells": [
    {
      "cell_type": "markdown",
      "metadata": {
        "id": "view-in-github",
        "colab_type": "text"
      },
      "source": [
        "<a href=\"https://colab.research.google.com/github/Sairohit022001/conditional-statements/blob/main/Variables.ipynb\" target=\"_parent\"><img src=\"https://colab.research.google.com/assets/colab-badge.svg\" alt=\"Open In Colab\"/></a>"
      ]
    },
    {
      "cell_type": "markdown",
      "source": [
        "# valid variables"
      ],
      "metadata": {
        "id": "HtE3kAg0Vm6F"
      }
    },
    {
      "cell_type": "code",
      "execution_count": null,
      "metadata": {
        "colab": {
          "base_uri": "https://localhost:8080/"
        },
        "id": "wSjpwHCQVati",
        "outputId": "809db3f8-ae3f-47cd-c627-345b559a4c20"
      },
      "outputs": [
        {
          "output_type": "stream",
          "name": "stdout",
          "text": [
            "boy\n",
            "24\n",
            "graduate\n"
          ]
        }
      ],
      "source": [
        "sairohit = \"boy\"\n",
        "age_ = 24\n",
        "_Rohit = \"graduate\"\n",
        "print(sairohit)\n",
        "print(age_)\n",
        "print(_Rohit)"
      ]
    },
    {
      "cell_type": "code",
      "source": [
        "#invalid variables\n",
        "\n",
        "24rohit = age\n",
        "if_name = Rohit\n",
        "@abc = Rohit\n",
        "print(24rohit)\n",
        "print(if_name)\n",
        "print(@abc)\n"
      ],
      "metadata": {
        "colab": {
          "base_uri": "https://localhost:8080/",
          "height": 106
        },
        "id": "VONQlwLrffBX",
        "outputId": "112736cc-a518-46da-d08f-832cf816fe19"
      },
      "execution_count": null,
      "outputs": [
        {
          "output_type": "error",
          "ename": "SyntaxError",
          "evalue": "invalid decimal literal (<ipython-input-41-a23912432d13>, line 3)",
          "traceback": [
            "\u001b[0;36m  File \u001b[0;32m\"<ipython-input-41-a23912432d13>\"\u001b[0;36m, line \u001b[0;32m3\u001b[0m\n\u001b[0;31m    24rohit = age\u001b[0m\n\u001b[0m     ^\u001b[0m\n\u001b[0;31mSyntaxError\u001b[0m\u001b[0;31m:\u001b[0m invalid decimal literal\n"
          ]
        }
      ]
    },
    {
      "cell_type": "code",
      "source": [
        "#import key words\n",
        "\n",
        "import keyword\n",
        "\n",
        "keywords = keyword.kwlist\n",
        "print(keywords)\n"
      ],
      "metadata": {
        "colab": {
          "base_uri": "https://localhost:8080/"
        },
        "id": "kvAdz7XkZ-Gs",
        "outputId": "c75f1715-88a9-4f17-ba82-502712b85e16"
      },
      "execution_count": null,
      "outputs": [
        {
          "output_type": "stream",
          "name": "stdout",
          "text": [
            "['False', 'None', 'True', 'and', 'as', 'assert', 'async', 'await', 'break', 'class', 'continue', 'def', 'del', 'elif', 'else', 'except', 'finally', 'for', 'from', 'global', 'if', 'import', 'in', 'is', 'lambda', 'nonlocal', 'not', 'or', 'pass', 'raise', 'return', 'try', 'while', 'with', 'yield']\n"
          ]
        }
      ]
    },
    {
      "cell_type": "code",
      "source": [
        "students = \"total_numbers\"\n",
        "_roll_numbers = 40\n",
        "print(students)\n",
        "print(_roll_numbers)"
      ],
      "metadata": {
        "colab": {
          "base_uri": "https://localhost:8080/"
        },
        "id": "0Bmywtjx48Yq",
        "outputId": "8d368ba9-f43a-44e6-918e-903c45d3c0ba"
      },
      "execution_count": null,
      "outputs": [
        {
          "output_type": "stream",
          "name": "stdout",
          "text": [
            "total_numbers\n",
            "40\n"
          ]
        }
      ]
    },
    {
      "cell_type": "code",
      "source": [
        "40biryani = \"packages\"\n",
        "income = 40000\n",
        "print(40biryani)\n",
        "print(income)\n"
      ],
      "metadata": {
        "colab": {
          "base_uri": "https://localhost:8080/",
          "height": 106
        },
        "id": "bX1hmLsR5xHc",
        "outputId": "1133e74b-8268-4b1f-c97b-9ffbc06e8f42"
      },
      "execution_count": null,
      "outputs": [
        {
          "output_type": "error",
          "ename": "SyntaxError",
          "evalue": "invalid decimal literal (<ipython-input-9-1bc40b5f2874>, line 1)",
          "traceback": [
            "\u001b[0;36m  File \u001b[0;32m\"<ipython-input-9-1bc40b5f2874>\"\u001b[0;36m, line \u001b[0;32m1\u001b[0m\n\u001b[0;31m    40biryani = \"packages\"\u001b[0m\n\u001b[0m     ^\u001b[0m\n\u001b[0;31mSyntaxError\u001b[0m\u001b[0;31m:\u001b[0m invalid decimal literal\n"
          ]
        }
      ]
    }
  ]
}